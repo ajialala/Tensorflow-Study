{
 "cells": [
  {
   "cell_type": "markdown",
   "metadata": {},
   "source": [
    "## 张量的概念\n",
    "**从功能的角度看，张量的可以简单被解释为多维数组。但张量在Tensorflow中的实现不是直接采用数组的形式，它只是对Tensorflow中运算结果的引用。在张量中没有保存真正的数字，它保存的是如何得到这些数字的计算过程。**"
   ]
  },
  {
   "cell_type": "code",
   "execution_count": 1,
   "metadata": {
    "collapsed": true
   },
   "outputs": [],
   "source": [
    "import tensorflow as tf"
   ]
  },
  {
   "cell_type": "code",
   "execution_count": 2,
   "metadata": {
    "collapsed": false
   },
   "outputs": [
    {
     "name": "stdout",
     "output_type": "stream",
     "text": [
      "Tensor(\"add:0\", shape=(2,), dtype=float32)\n"
     ]
    }
   ],
   "source": [
    "# tf.constant是一个计算，这个计算的结果是一个张量，保存在变量a中\n",
    "a = tf.constant([1.0, 2.0], name='a')\n",
    "b = tf.constant([2.0, 3.0], name='b')\n",
    "result = tf.add(a, b, name='add')\n",
    "print(result)"
   ]
  },
  {
   "cell_type": "markdown",
   "metadata": {},
   "source": [
    "**从上面的代码中可以看出一个张量中保存了3个属性：名字、维度和类型。**\n",
    "-  名字是张量的唯一标识符，给出了这个张量是如何计算出来的。计算图的每一个节点代表了一个计算，计算的结果就保存在张量中。所以张量和计算图上节点所代表的计算结果是对应的。这样张量的命名就通过’node:src_output‘的形式给出来。其中node为节点名称，src_output表示当前张量来自节点的第几个输出。比如上面代码打出来的’add:0‘就说明了result这个张量是计算节点’add‘输出的第一个结果（编号从0开始）。\n",
    "- shape=(2,)说明张量result是一个一维数组，这个数组的长度是2\n",
    "- 每一个张量都会有一个唯一的类型，tensorflow会对参与计算的张量进行检查，发现类型不匹配时会报错。"
   ]
  },
  {
   "cell_type": "markdown",
   "metadata": {},
   "source": [
    "## 张量的使用\n",
    "- 对中间结果的引用。比如result.get_shape获取张量的维度信息。\n",
    "- 可以大大提高代码的可读性，尤其是在复杂度高的运算中。\n",
    "- 获得计算结果，也就是得到真实的数字。通过会话（session），比如上面代码中，用tf.Session().run(result)得到计算结果。"
   ]
  }
 ],
 "metadata": {
  "anaconda-cloud": {},
  "kernelspec": {
   "display_name": "Python [conda env:anaconda3]",
   "language": "python",
   "name": "conda-env-anaconda3-py"
  },
  "language_info": {
   "codemirror_mode": {
    "name": "ipython",
    "version": 3
   },
   "file_extension": ".py",
   "mimetype": "text/x-python",
   "name": "python",
   "nbconvert_exporter": "python",
   "pygments_lexer": "ipython3",
   "version": "3.5.2"
  }
 },
 "nbformat": 4,
 "nbformat_minor": 2
}
