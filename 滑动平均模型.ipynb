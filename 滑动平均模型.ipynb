{
 "cells": [
  {
   "cell_type": "markdown",
   "metadata": {},
   "source": [
    "## 滑动平均模型使模型在测试数据集上更健壮"
   ]
  },
  {
   "cell_type": "markdown",
   "metadata": {},
   "source": [
    "- 衰减率（decay）：控制模型的更新速度\n",
    "- 影子变量（shadow variable）：初始值就是相应变量的初始值，而每次运行变量更新时，影子变量的值会更新为：\n",
    "![影子变量更新公式](pic/滑动平均模型_1.png)\n",
    "variable为待更新变量，从公式中可以看出decay越大模型越稳定，一般取0.999。为了使模型在训练前期可以更新的更快，num_updates参数可以动态设置decay的大小。如果初始化时提供了num_updates，那么每次使用的衰减率为：\n",
    "![衰减率更新公式](pic/滑动平均模型_2.png)"
   ]
  },
  {
   "cell_type": "code",
   "execution_count": 1,
   "metadata": {
    "collapsed": true
   },
   "outputs": [],
   "source": [
    "import tensorflow as tf"
   ]
  },
  {
   "cell_type": "code",
   "execution_count": 2,
   "metadata": {
    "collapsed": true
   },
   "outputs": [],
   "source": [
    "v1 = tf.Variable(0, dtype=tf.float32)\n",
    "step = tf.Variable(0, trainable=False)                 # 模拟神经网络模型中迭代的轮数\n",
    "ema = tf.train.ExponentialMovingAverage(0.99, step)    # 定义一个滑动平均的类\n",
    "maintain_averages_op = ema.apply([v1])                 # 定义一个更新滑动平均的操作。这里需要给定一个列表，每次执行这个操作时\n",
    "                                                       # 这个列表中的变量会被更新。"
   ]
  },
  {
   "cell_type": "code",
   "execution_count": 3,
   "metadata": {
    "collapsed": false
   },
   "outputs": [
    {
     "name": "stdout",
     "output_type": "stream",
     "text": [
      "[0.0, 0.0]\n",
      "[5.0, 4.5]\n",
      "[10.0, 4.555]\n",
      "[10.0, 4.60945]\n"
     ]
    }
   ],
   "source": [
    "with tf.Session() as sess:\n",
    "    \n",
    "    # 初始化\n",
    "    init_op = tf.global_variables_initializer()\n",
    "    sess.run(init_op)\n",
    "    print(sess.run([v1, ema.average(v1)]))\n",
    "    \n",
    "    # 更新变量v1的取值到5。\n",
    "    sess.run(tf.assign(v1, 5))\n",
    "    # 更新v1的滑动平均值。衰减率为min{0.99, (1+step)/(10+step)=0.1} = 0.1\n",
    "    # 所以v1的滑动平均会被更新为0.1*0+0.9*5=4.5\n",
    "    sess.run(maintain_averages_op)\n",
    "    print(sess.run([v1, ema.average(v1)]))\n",
    "    \n",
    "    # 更新step和v1的取值\n",
    "    sess.run(tf.assign(step, 10000))  \n",
    "    sess.run(tf.assign(v1, 10))\n",
    "    # 更新v1的滑动平均值。衰减率为min{0.99, (1+step)/(10+step)=0.999} = 0.99\n",
    "    # 所以v1的滑动平均会被更新为0.99*4.5+0.01*10=4.555\n",
    "    sess.run(maintain_averages_op)\n",
    "    print(sess.run([v1, ema.average(v1)]))       \n",
    "    \n",
    "    # 再次更新v1的滑动平均值，得到新的滑动平均值0.99*4.555+0.01*10=4.60945\n",
    "    sess.run(maintain_averages_op)\n",
    "    print(sess.run([v1, ema.average(v1)]))"
   ]
  }
 ],
 "metadata": {
  "anaconda-cloud": {},
  "kernelspec": {
   "display_name": "Python [conda env:anaconda3]",
   "language": "python",
   "name": "conda-env-anaconda3-py"
  },
  "language_info": {
   "codemirror_mode": {
    "name": "ipython",
    "version": 3
   },
   "file_extension": ".py",
   "mimetype": "text/x-python",
   "name": "python",
   "nbconvert_exporter": "python",
   "pygments_lexer": "ipython3",
   "version": "3.5.2"
  }
 },
 "nbformat": 4,
 "nbformat_minor": 2
}
