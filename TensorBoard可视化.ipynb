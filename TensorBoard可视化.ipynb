{
 "cells": [
  {
   "cell_type": "markdown",
   "metadata": {},
   "source": [
    "### TensorBoard可以有效的展示Tensorflow在运行过程中的计算图、各种指标随着时间的变化趋势以及训练中使用到的图像等信息。"
   ]
  },
  {
   "cell_type": "markdown",
   "metadata": {},
   "source": [
    "TensorBoard可以通过Tensorflow在运行过程中输出的日志文件可视化Tensorflow的运行状态。Tensorflow和TensorBoard运行在不同的进程中，TensorBoard会自动读取Tensorflow的日志文件，并呈现当前Tensorflow程序运行的最新状态。"
   ]
  },
  {
   "cell_type": "code",
   "execution_count": 1,
   "metadata": {
    "collapsed": false
   },
   "outputs": [],
   "source": [
    "import tensorflow as tf\n",
    "\n",
    "input1 = tf.constant([1.0,2.0,3.0], name='input1')\n",
    "input2 = tf.Variable(tf.random_uniform([3]), name='input2')\n",
    "output = tf.add_n([input1, input2], name='add')\n",
    "\n",
    "# 生成一个写日志的writer，并将当前的Tensorflow计算图写入日志。Tensorflow提供了多种写日志文件的API。\n",
    "writer = tf.summary.FileWriter('log/', tf.get_default_graph()) # 旧版本命令为tf.train.SummaryWriter\n",
    "writer.close()\n",
    "# 运行完这段代码之后在终端运行 tensorboard --logdir=log/\n",
    "# 然后在浏览器输入localhost:6006打开"
   ]
  }
 ],
 "metadata": {
  "kernelspec": {
   "display_name": "Python [conda env:anaconda3]",
   "language": "python",
   "name": "conda-env-anaconda3-py"
  },
  "language_info": {
   "codemirror_mode": {
    "name": "ipython",
    "version": 3
   },
   "file_extension": ".py",
   "mimetype": "text/x-python",
   "name": "python",
   "nbconvert_exporter": "python",
   "pygments_lexer": "ipython3",
   "version": "3.5.2"
  }
 },
 "nbformat": 4,
 "nbformat_minor": 2
}
